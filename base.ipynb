{
 "cells": [
  {
   "cell_type": "code",
   "execution_count": 1,
   "id": "eaa763bd",
   "metadata": {},
   "outputs": [
    {
     "name": "stdout",
     "output_type": "stream",
     "text": [
      "[10 20 30 40 50]\n"
     ]
    }
   ],
   "source": [
    "import numpy as np\n",
    "list1 = [10,20,30,40,50]\n",
    "array1 = np.array(list1)\n",
    "print(array1)"
   ]
  },
  {
   "cell_type": "code",
   "execution_count": 16,
   "id": "aa8ee6f0",
   "metadata": {},
   "outputs": [
    {
     "name": "stdout",
     "output_type": "stream",
     "text": [
      "[[10 20 30]\n",
      " [40 50 60]\n",
      " [70 80 90]]\n"
     ]
    },
    {
     "data": {
      "text/plain": [
       "(3, 3)"
      ]
     },
     "execution_count": 16,
     "metadata": {},
     "output_type": "execute_result"
    }
   ],
   "source": [
    "\n",
    "list1 = [[10,20,30],[40,50,60],[70,80,90]]\n",
    "array1 = np.array(list1)\n",
    "print(array1)\n",
    "type(array1)\n",
    "array1.ndim\n",
    "array1.shape"
   ]
  },
  {
   "cell_type": "code",
   "execution_count": 17,
   "id": "ba591b94",
   "metadata": {},
   "outputs": [
    {
     "name": "stdout",
     "output_type": "stream",
     "text": [
      "[1 2 3 4 5 6 7]\n"
     ]
    },
    {
     "data": {
      "text/plain": [
       "7"
      ]
     },
     "execution_count": 17,
     "metadata": {},
     "output_type": "execute_result"
    }
   ],
   "source": [
    "array1=np.arange(1,8)\n",
    "print(array1)\n",
    "array1.size"
   ]
  },
  {
   "cell_type": "code",
   "execution_count": 18,
   "id": "5182c6e0",
   "metadata": {},
   "outputs": [
    {
     "name": "stdout",
     "output_type": "stream",
     "text": [
      "[[11 12 13]\n",
      " [14 15 16]]\n"
     ]
    },
    {
     "data": {
      "text/plain": [
       "dtype('int64')"
      ]
     },
     "execution_count": 18,
     "metadata": {},
     "output_type": "execute_result"
    }
   ],
   "source": [
    "array1 = np.arange(11,17).reshape((2,3))\n",
    "print(array1)\n",
    "array1.dtype"
   ]
  },
  {
   "cell_type": "code",
   "execution_count": 19,
   "id": "9731492d",
   "metadata": {},
   "outputs": [
    {
     "name": "stdout",
     "output_type": "stream",
     "text": [
      "[0. 0. 0. 0.]\n"
     ]
    },
    {
     "data": {
      "text/plain": [
       "dtype('float64')"
      ]
     },
     "execution_count": 19,
     "metadata": {},
     "output_type": "execute_result"
    }
   ],
   "source": [
    "array1 = np.zeros(4)\n",
    "print(array1)\n",
    "array1.dtype"
   ]
  },
  {
   "cell_type": "code",
   "execution_count": 13,
   "id": "bdc7e814",
   "metadata": {},
   "outputs": [
    {
     "name": "stdout",
     "output_type": "stream",
     "text": [
      "[[1. 1.]\n",
      " [1. 1.]\n",
      " [1. 1.]\n",
      " [1. 1.]]\n"
     ]
    },
    {
     "data": {
      "text/plain": [
       "2"
      ]
     },
     "execution_count": 13,
     "metadata": {},
     "output_type": "execute_result"
    }
   ],
   "source": [
    "array1 = np.ones((4,2))\n",
    "print(array1)\n",
    "array1.ndim"
   ]
  },
  {
   "cell_type": "code",
   "execution_count": 12,
   "id": "c4218825",
   "metadata": {},
   "outputs": [
    {
     "data": {
      "text/plain": [
       "1"
      ]
     },
     "execution_count": 12,
     "metadata": {},
     "output_type": "execute_result"
    }
   ],
   "source": [
    "list1 = [10,20,30,40,50]\n",
    "array1=np.array(list1)\n",
    "array1.ndim"
   ]
  },
  {
   "cell_type": "code",
   "execution_count": 20,
   "id": "0e56c341",
   "metadata": {},
   "outputs": [
    {
     "name": "stdout",
     "output_type": "stream",
     "text": [
      "10\n",
      "50\n"
     ]
    }
   ],
   "source": [
    "#Indexing in NumPy Array\n",
    "array1=np.array([10,20,30,40,50])\n",
    "print(array1[0])\n",
    "print(array1[-1])"
   ]
  },
  {
   "cell_type": "code",
   "execution_count": 21,
   "id": "e348eee7",
   "metadata": {},
   "outputs": [
    {
     "name": "stdout",
     "output_type": "stream",
     "text": [
      "60\n",
      "[10 20 30]\n",
      "[20 50 80]\n"
     ]
    }
   ],
   "source": [
    "array1 = np.array([[10,20,30],[40,50,60],[70,80,90]])\n",
    "print(array1[1,2])\n",
    "print(array1[0,:])\n",
    "print(array1[:,1])"
   ]
  },
  {
   "cell_type": "code",
   "execution_count": 22,
   "id": "45fd8876",
   "metadata": {},
   "outputs": [
    {
     "name": "stdout",
     "output_type": "stream",
     "text": [
      "[20 30]\n",
      "[20 40 60]\n",
      "[70 60]\n",
      "[10 30 50 70]\n",
      "[70 60 50 40 30 20 10]\n"
     ]
    }
   ],
   "source": [
    "#slicing in Numpy arrays\n",
    "array1=np.array([10,20,30,40,50,60,70])\n",
    "print(array1[1:3])\n",
    "print(array1[1:6:2])\n",
    "print(array1[-1:-3:-1])\n",
    "print(array1[::2])\n",
    "print(array1[::-1])"
   ]
  },
  {
   "cell_type": "code",
   "execution_count": 24,
   "id": "abe95309",
   "metadata": {},
   "outputs": [
    {
     "name": "stdout",
     "output_type": "stream",
     "text": [
      "[25 26 27]\n",
      "[16 26 46]\n",
      "[[26 27]\n",
      " [46 47]]\n",
      "[[25 26 27]\n",
      " [45 46 47]]\n",
      "[[16 17]\n",
      " [26 27]\n",
      " [46 47]]\n",
      "[26 46]\n",
      "[[25]\n",
      " [45]]\n"
     ]
    }
   ],
   "source": [
    "array1=np.array([[15,16,17],[25,26,27],[45,46,47]])\n",
    "print(array1[1, ])\n",
    "print(array1[:,1])\n",
    "print(array1[1:3,1:3])\n",
    "print(array1[1:3, ])\n",
    "print(array1[:,1:3])\n",
    "print(array1[1:3,1])\n",
    "print(array1[1:3, :1])"
   ]
  },
  {
   "cell_type": "code",
   "execution_count": 27,
   "id": "1c11d541",
   "metadata": {},
   "outputs": [
    {
     "name": "stdout",
     "output_type": "stream",
     "text": [
      "[[12 14]\n",
      " [16 18]]\n",
      "[[-10 -10]\n",
      " [-10 -10]]\n",
      "[[11 24]\n",
      " [39 56]]\n",
      "[[37 40]\n",
      " [85 92]]\n",
      "[[11.          6.        ]\n",
      " [ 4.33333333  3.5       ]]\n",
      "[[11  6]\n",
      " [ 4  3]]\n",
      "[[   11   144]\n",
      " [ 2197 38416]]\n",
      "[[0 0]\n",
      " [1 2]]\n",
      "[[1 3]\n",
      " [2 4]]\n"
     ]
    }
   ],
   "source": [
    "#Arithmetic Operations\n",
    "x=np.array([[1,2],[3,4]])\n",
    "y=np.array([[11,12],[13,14]])\n",
    "z=x+y\n",
    "print(z)\n",
    "a=x-y\n",
    "print(a)\n",
    "b=x*y\n",
    "print(b)\n",
    "c=x@y\n",
    "print(c)\n",
    "d=y/x\n",
    "print(d)\n",
    "e=y//x\n",
    "print(e)\n",
    "f=y**x\n",
    "print(f)\n",
    "g=y%x\n",
    "print(g)\n",
    "print(x.transpose())"
   ]
  },
  {
   "cell_type": "code",
   "execution_count": null,
   "id": "caca417a",
   "metadata": {},
   "outputs": [
    {
     "name": "stdout",
     "output_type": "stream",
     "text": [
      "[[12 11 15]\n",
      " [18 25 16]\n",
      " [21 27 20]]\n"
     ]
    }
   ],
   "source": [
    "#sorting in 2D\n",
    "x=np.array([[12,11,15],[21,25,20],[18,27,16]])\n",
    "y=np.sort(x,axis=0) #colunm wise sort\n",
    "print(y)"
   ]
  },
  {
   "cell_type": "code",
   "execution_count": 30,
   "id": "80b996b2",
   "metadata": {},
   "outputs": [
    {
     "name": "stdout",
     "output_type": "stream",
     "text": [
      "[[1 0 2]\n",
      " [2 0 1]\n",
      " [2 0 1]]\n"
     ]
    }
   ],
   "source": [
    "x=np.array([[12,11,15],[21,25,20],[18,27,16]])\n",
    "y=np.argsort(x,axis=1)\n",
    "print(y)"
   ]
  },
  {
   "cell_type": "code",
   "execution_count": 31,
   "id": "b834d083",
   "metadata": {},
   "outputs": [
    {
     "name": "stdout",
     "output_type": "stream",
     "text": [
      "[[11 12 15]\n",
      " [20 21 25]\n",
      " [16 18 27]]\n"
     ]
    }
   ],
   "source": [
    "#inplace\n",
    "x=np.array([[12,11,15],[21,25,20],[18,27,16]])\n",
    "x.sort()\n",
    "print(x)"
   ]
  },
  {
   "cell_type": "code",
   "execution_count": null,
   "id": "5ce568be",
   "metadata": {},
   "outputs": [
    {
     "name": "stdout",
     "output_type": "stream",
     "text": [
      "[9 7 6 3 2]\n"
     ]
    }
   ],
   "source": [
    "#sorting in 1D array\n",
    "x=np.array([7,2,3,9,6])\n",
    "y=np.sort(x)[::-1] #for reverse\n",
    "print(y)"
   ]
  },
  {
   "cell_type": "code",
   "execution_count": 35,
   "id": "e58d00b3",
   "metadata": {},
   "outputs": [
    {
     "name": "stdout",
     "output_type": "stream",
     "text": [
      "[1 2 4 0 3]\n"
     ]
    }
   ],
   "source": [
    "x=np.array([7,2,3,9,6])\n",
    "y=np.argsort(x)\n",
    "print(y)"
   ]
  },
  {
   "cell_type": "code",
   "execution_count": 36,
   "id": "93724601",
   "metadata": {},
   "outputs": [
    {
     "name": "stdout",
     "output_type": "stream",
     "text": [
      "[2 3 6 7 9]\n"
     ]
    }
   ],
   "source": [
    "x=np.array([7,2,3,9,6])\n",
    "x.sort()\n",
    "print(x)"
   ]
  },
  {
   "cell_type": "code",
   "execution_count": 44,
   "id": "fc9d82b3",
   "metadata": {},
   "outputs": [
    {
     "name": "stdout",
     "output_type": "stream",
     "text": [
      "9\n",
      "2\n",
      "25\n",
      "5.0\n",
      "4.0\n",
      "1512\n",
      "6.8\n",
      "2.6076809620810595\n"
     ]
    }
   ],
   "source": [
    "#Statistical Operations\n",
    "x=np.array([4,2,3,9,7])\n",
    "y=np.max(x)\n",
    "a=np.min(x)\n",
    "b=np.sum(x)\n",
    "c=np.mean(x)\n",
    "d=np.median(x)\n",
    "e=np.prod(x)\n",
    "f=np.var(x)\n",
    "g=np.std(x)\n",
    "print(y)\n",
    "print(a)\n",
    "print(b)\n",
    "print(c)\n",
    "print(d)\n",
    "print(e)\n",
    "print(f)\n",
    "print(g)"
   ]
  },
  {
   "cell_type": "code",
   "execution_count": 45,
   "id": "87707f31",
   "metadata": {},
   "outputs": [
    {
     "name": "stdout",
     "output_type": "stream",
     "text": [
      "Shape: (4,)\n",
      "Data type: int64\n"
     ]
    }
   ],
   "source": [
    "import numpy as np\n",
    "\n",
    "# Convert list to NumPy array\n",
    "my_list = [1, 2, 3, 4]\n",
    "my_array = np.array(my_list)\n",
    "\n",
    "# Print the shape and dtype\n",
    "print(\"Shape:\", my_array.shape)\n",
    "print(\"Data type:\", my_array.dtype)"
   ]
  },
  {
   "cell_type": "code",
   "execution_count": 46,
   "id": "be71977b",
   "metadata": {},
   "outputs": [
    {
     "name": "stdout",
     "output_type": "stream",
     "text": [
      "Random 4x4 Array:\n",
      " [[41 41 15 65]\n",
      " [66 53 14 72]\n",
      " [92 31 69 15]\n",
      " [38 97  2 16]]\n"
     ]
    }
   ],
   "source": [
    "random_array = np.random.randint(0, 101, size=(4, 4))\n",
    "print(\"Random 4x4 Array:\\n\", random_array)"
   ]
  },
  {
   "cell_type": "code",
   "execution_count": 47,
   "id": "4a98e89b",
   "metadata": {},
   "outputs": [
    {
     "name": "stdout",
     "output_type": "stream",
     "text": [
      "Original 4x4 Array:\n",
      " [[89 64 98 91]\n",
      " [16 96 64 15]\n",
      " [78 14 60 91]\n",
      " [22 55 15 57]]\n",
      "\n",
      "Middle 2x2 Sub-matrix:\n",
      " [[96 64]\n",
      " [14 60]]\n"
     ]
    }
   ],
   "source": [
    "\n",
    "random_array = np.random.randint(0, 101, size=(4, 4))\n",
    "print(\"Original 4x4 Array:\\n\", random_array)\n",
    "middle_submatrix = random_array[1:3, 1:3]\n",
    "print(\"\\nMiddle 2x2 Sub-matrix:\\n\", middle_submatrix)"
   ]
  },
  {
   "cell_type": "code",
   "execution_count": null,
   "id": "789d2cd9",
   "metadata": {},
   "outputs": [
    {
     "name": "stdout",
     "output_type": "stream",
     "text": [
      "1D Array: [0 1 2 3 4 5 6 7 8]\n",
      "\n",
      "Reshaped 3x3 Matrix:\n",
      " [[0 1 2]\n",
      " [3 4 5]\n",
      " [6 7 8]]\n"
     ]
    }
   ],
   "source": [
    "# Create 1D array\n",
    "array_1d = np.arange(9)\n",
    "\n",
    "\n",
    "\n",
    "\n",
    "# Reshape\n",
    "matrix_3x3 = array_1d.reshape(3, 3)\n",
    "print(\"1D Array:\", array_1d)\n",
    "print(\"\\nReshaped 3x3 Matrix:\\n\", matrix_3x3)"
   ]
  },
  {
   "cell_type": "code",
   "execution_count": null,
   "id": "e2831f4b",
   "metadata": {},
   "outputs": [],
   "source": []
  }
 ],
 "metadata": {
  "kernelspec": {
   "display_name": ".venv",
   "language": "python",
   "name": "python3"
  },
  "language_info": {
   "codemirror_mode": {
    "name": "ipython",
    "version": 3
   },
   "file_extension": ".py",
   "mimetype": "text/x-python",
   "name": "python",
   "nbconvert_exporter": "python",
   "pygments_lexer": "ipython3",
   "version": "3.13.3"
  }
 },
 "nbformat": 4,
 "nbformat_minor": 5
}
