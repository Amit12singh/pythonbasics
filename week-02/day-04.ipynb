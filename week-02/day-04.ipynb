{
 "cells": [
  {
   "cell_type": "code",
   "execution_count": 1,
   "id": "07269663",
   "metadata": {},
   "outputs": [
    {
     "name": "stdout",
     "output_type": "stream",
     "text": [
      "   First Score  Second Score  Third Score\n",
      "0        False         False         True\n",
      "1        False         False        False\n",
      "2         True         False        False\n",
      "3        False          True        False\n"
     ]
    }
   ],
   "source": [
    "# Importing pandas and numpy\n",
    "import pandas as pd\n",
    "import numpy as np\n",
    "\n",
    "# Sample DataFrame with missing values\n",
    "d = {'First Score': [100, 90, np.nan, 95],\n",
    "        'Second Score': [30, 45, 56, np.nan],\n",
    "        'Third Score': [np.nan, 40, 80, 98]}\n",
    "df = pd.DataFrame(d)\n",
    "\n",
    "# Checking for missing values using isnull()\n",
    "mv = df.isnull()\n",
    "\n",
    "print(mv)\n"
   ]
  },
  {
   "cell_type": "code",
   "execution_count": 2,
   "id": "d9bf4829",
   "metadata": {},
   "outputs": [
    {
     "name": "stdout",
     "output_type": "stream",
     "text": [
      "   First Score  Second Score  Third Score\n",
      "0         True          True        False\n",
      "1         True          True         True\n",
      "2        False          True         True\n",
      "3         True         False         True\n"
     ]
    }
   ],
   "source": [
    "import pandas as pd\n",
    "import numpy as np\n",
    "\n",
    "# Sample DataFrame with missing values\n",
    "d = {'First Score': [100, 90, np.nan, 95],\n",
    "        'Second Score': [30, 45, 56, np.nan],\n",
    "        'Third Score': [np.nan, 40, 80, 98]}\n",
    "df = pd.DataFrame(d)\n",
    "\n",
    "# Checking for non-missing values using notnull()\n",
    "nmv = df.notnull()\n",
    "\n",
    "print(nmv)\n"
   ]
  },
  {
   "cell_type": "code",
   "execution_count": 3,
   "id": "e7412fea",
   "metadata": {},
   "outputs": [
    {
     "data": {
      "text/html": [
       "<div>\n",
       "<style scoped>\n",
       "    .dataframe tbody tr th:only-of-type {\n",
       "        vertical-align: middle;\n",
       "    }\n",
       "\n",
       "    .dataframe tbody tr th {\n",
       "        vertical-align: top;\n",
       "    }\n",
       "\n",
       "    .dataframe thead th {\n",
       "        text-align: right;\n",
       "    }\n",
       "</style>\n",
       "<table border=\"1\" class=\"dataframe\">\n",
       "  <thead>\n",
       "    <tr style=\"text-align: right;\">\n",
       "      <th></th>\n",
       "      <th>First Score</th>\n",
       "      <th>Second Score</th>\n",
       "      <th>Third Score</th>\n",
       "    </tr>\n",
       "  </thead>\n",
       "  <tbody>\n",
       "    <tr>\n",
       "      <th>0</th>\n",
       "      <td>100.0</td>\n",
       "      <td>30.0</td>\n",
       "      <td>0.0</td>\n",
       "    </tr>\n",
       "    <tr>\n",
       "      <th>1</th>\n",
       "      <td>90.0</td>\n",
       "      <td>45.0</td>\n",
       "      <td>40.0</td>\n",
       "    </tr>\n",
       "    <tr>\n",
       "      <th>2</th>\n",
       "      <td>0.0</td>\n",
       "      <td>56.0</td>\n",
       "      <td>80.0</td>\n",
       "    </tr>\n",
       "    <tr>\n",
       "      <th>3</th>\n",
       "      <td>95.0</td>\n",
       "      <td>0.0</td>\n",
       "      <td>98.0</td>\n",
       "    </tr>\n",
       "  </tbody>\n",
       "</table>\n",
       "</div>"
      ],
      "text/plain": [
       "   First Score  Second Score  Third Score\n",
       "0        100.0          30.0          0.0\n",
       "1         90.0          45.0         40.0\n",
       "2          0.0          56.0         80.0\n",
       "3         95.0           0.0         98.0"
      ]
     },
     "execution_count": 3,
     "metadata": {},
     "output_type": "execute_result"
    }
   ],
   "source": [
    "d = {'First Score': [100, 90, np.nan, 95],\n",
    "        'Second Score': [30, 45, 56, np.nan],\n",
    "        'Third Score': [np.nan, 40, 80, 98]}\n",
    "df = pd.DataFrame(d)\n",
    "\n",
    "# Filling missing values with 0\n",
    "df.fillna(0)\n"
   ]
  },
  {
   "cell_type": "code",
   "execution_count": null,
   "id": "eaa39eb4",
   "metadata": {},
   "outputs": [
    {
     "name": "stdout",
     "output_type": "stream",
     "text": [
      "Before Conversion:\n",
      "<class 'pandas.core.frame.DataFrame'>\n",
      "RangeIndex: 3 entries, 0 to 2\n",
      "Data columns (total 3 columns):\n",
      " #   Column  Non-Null Count  Dtype \n",
      "---  ------  --------------  ----- \n",
      " 0   Date    3 non-null      object\n",
      " 1   Event   3 non-null      object\n",
      " 2   Cost    3 non-null      int64 \n",
      "dtypes: int64(1), object(2)\n",
      "memory usage: 204.0+ bytes\n",
      "None\n",
      "\n",
      "After Conversion:\n",
      "<class 'pandas.core.frame.DataFrame'>\n",
      "RangeIndex: 3 entries, 0 to 2\n",
      "Data columns (total 3 columns):\n",
      " #   Column  Non-Null Count  Dtype         \n",
      "---  ------  --------------  -----         \n",
      " 0   Date    3 non-null      datetime64[ns]\n",
      " 1   Event   3 non-null      object        \n",
      " 2   Cost    3 non-null      int64         \n",
      "dtypes: datetime64[ns](1), int64(1), object(1)\n",
      "memory usage: 204.0+ bytes\n",
      "None\n"
     ]
    }
   ],
   "source": [
    "# Creating a DataFrame\n",
    "df = pd.DataFrame({\n",
    "    'Date': ['11/8/2011', '04/23/2008', '10/2/2019'],\n",
    "    'Event': ['Music', 'Poetry', 'Theatre'],\n",
    "    'Cost': [10000, 5000, 15000]\n",
    "})\n",
    "\n",
    "# Display initial data types\n",
    "print(\"Before Conversion:\")\n",
    "print(df.info())\n",
    "\n",
    "# Converting 'Date' column to datetime\n",
    "df['Date'] = pd.to_datetime(df['Date'])\n",
    "\n",
    "# Display data types after conversion\n",
    "print(\"\\nAfter Conversion:\")\n",
    "print(df.info())\n"
   ]
  },
  {
   "cell_type": "code",
   "execution_count": 5,
   "id": "4daaa8d2",
   "metadata": {},
   "outputs": [
    {
     "name": "stdout",
     "output_type": "stream",
     "text": [
      "Before Conversion:\n",
      "    Dates  Patients\n",
      "0  200712     50000\n",
      "1  200714     51000\n",
      "2  200716     51500\n",
      "3  200719     53000\n",
      "4  200721     54000\n",
      "5  200724     55000\n",
      "6  200729     57000\n",
      "Dates       object\n",
      "Patients     int64\n",
      "dtype: object\n",
      "\n",
      "After Conversion:\n",
      "       Dates  Patients\n",
      "0 2020-07-12     50000\n",
      "1 2020-07-14     51000\n",
      "2 2020-07-16     51500\n",
      "3 2020-07-19     53000\n",
      "4 2020-07-21     54000\n",
      "5 2020-07-24     55000\n",
      "6 2020-07-29     57000\n",
      "Dates       datetime64[ns]\n",
      "Patients             int64\n",
      "dtype: object\n"
     ]
    }
   ],
   "source": [
    "# Initializing the dataset\n",
    "player_list = [\n",
    "    ['200712', 50000],\n",
    "    ['200714', 51000],\n",
    "    ['200716', 51500],\n",
    "    ['200719', 53000],\n",
    "    ['200721', 54000],\n",
    "    ['200724', 55000],\n",
    "    ['200729', 57000]\n",
    "]\n",
    "\n",
    "# Creating a pandas DataFrame\n",
    "df = pd.DataFrame(player_list, columns=['Dates', 'Patients'])\n",
    "\n",
    "# Displaying the DataFrame and its data types before conversion\n",
    "print(\"Before Conversion:\")\n",
    "print(df)\n",
    "print(df.dtypes)\n",
    "\n",
    "# Converting 'Dates' from 'yymmdd' to datetime format\n",
    "df['Dates'] = pd.to_datetime(df['Dates'], format='%y%m%d')\n",
    "\n",
    "# Displaying the DataFrame and its data types after conversion\n",
    "print(\"\\nAfter Conversion:\")\n",
    "print(df)\n",
    "print(df.dtypes)\n"
   ]
  },
  {
   "cell_type": "code",
   "execution_count": 6,
   "id": "6e9e7b39",
   "metadata": {},
   "outputs": [
    {
     "name": "stdout",
     "output_type": "stream",
     "text": [
      "   Alpha  B\n",
      "0      1  3\n",
      "1      2  4\n"
     ]
    }
   ],
   "source": [
    "import pandas as pd\n",
    "\n",
    "# Sample DataFrame\n",
    "df = pd.DataFrame({\n",
    "    'A': [1, 2],\n",
    "    'B': [3, 4]\n",
    "})\n",
    "\n",
    "# Rename column 'A' to 'Alpha'\n",
    "df_renamed = df.rename(columns={'A': 'Alpha'})\n",
    "\n",
    "print(df_renamed)\n"
   ]
  },
  {
   "cell_type": "code",
   "execution_count": 7,
   "id": "4573f3cb",
   "metadata": {},
   "outputs": [
    {
     "name": "stdout",
     "output_type": "stream",
     "text": [
      "       A  B\n",
      "first  1  3\n",
      "1      2  4\n"
     ]
    }
   ],
   "source": [
    "# Rename row index 0 to 'first'\n",
    "df_renamed = df.rename(index={0: 'first'})\n",
    "\n",
    "print(df_renamed)\n"
   ]
  },
  {
   "cell_type": "code",
   "execution_count": 8,
   "id": "82bb65a9",
   "metadata": {},
   "outputs": [
    {
     "name": "stdout",
     "output_type": "stream",
     "text": [
      "        Name\n",
      "ID          \n",
      "101    Alice\n",
      "102      Bob\n",
      "103  Charlie\n"
     ]
    }
   ],
   "source": [
    "df = pd.DataFrame({\n",
    "    'ID': [101, 102, 103],\n",
    "    'Name': ['Alice', 'Bob', 'Charlie']\n",
    "})\n",
    "\n",
    "# Set 'ID' as the index\n",
    "df_indexed = df.set_index('ID')\n",
    "\n",
    "print(df_indexed)\n"
   ]
  },
  {
   "cell_type": "code",
   "execution_count": 9,
   "id": "ab12811c",
   "metadata": {},
   "outputs": [
    {
     "name": "stdout",
     "output_type": "stream",
     "text": [
      "Before sorting:\n",
      "            value\n",
      "date             \n",
      "2025-04-30     10\n",
      "2025-04-28     20\n",
      "2025-04-29     30\n",
      "\n",
      "After sorting:\n",
      "            value\n",
      "date             \n",
      "2025-04-28     20\n",
      "2025-04-29     30\n",
      "2025-04-30     10\n",
      "\n",
      "Is the index monotonically increasing? True\n"
     ]
    }
   ],
   "source": [
    "# Example DataFrame\n",
    "df = pd.DataFrame({\n",
    "    'date': ['2025-04-30', '2025-04-28', '2025-04-29'],\n",
    "    'value': [10, 20, 30]\n",
    "})\n",
    "\n",
    "# Convert 'date' to datetime\n",
    "df['date'] = pd.to_datetime(df['date'])\n",
    "\n",
    "# Set 'date' as index\n",
    "df = df.set_index('date')\n",
    "\n",
    "print(\"Before sorting:\")\n",
    "print(df)\n",
    "\n",
    "# Step 1: Sort by datetime index\n",
    "df = df.sort_index()\n",
    "\n",
    "print(\"\\nAfter sorting:\")\n",
    "print(df)\n",
    "\n",
    "# Step 2: Verify monotonicity\n",
    "print(\"\\nIs the index monotonically increasing?\", df.index.is_monotonic_increasing)\n"
   ]
  },
  {
   "cell_type": "code",
   "execution_count": null,
   "id": "73816860",
   "metadata": {},
   "outputs": [],
   "source": []
  }
 ],
 "metadata": {
  "kernelspec": {
   "display_name": ".venv",
   "language": "python",
   "name": "python3"
  },
  "language_info": {
   "codemirror_mode": {
    "name": "ipython",
    "version": 3
   },
   "file_extension": ".py",
   "mimetype": "text/x-python",
   "name": "python",
   "nbconvert_exporter": "python",
   "pygments_lexer": "ipython3",
   "version": "3.13.3"
  }
 },
 "nbformat": 4,
 "nbformat_minor": 5
}
