{
 "cells": [
  {
   "cell_type": "code",
   "execution_count": 2,
   "id": "44b8b33a",
   "metadata": {},
   "outputs": [
    {
     "name": "stdout",
     "output_type": "stream",
     "text": [
      "[ 2  5 10]\n",
      "[ 2  6 30]\n"
     ]
    }
   ],
   "source": [
    "import numpy as np\n",
    "result=np.add.accumulate([2,3,5])\n",
    "print(result)\n",
    "result1=np.multiply.accumulate([2,3,5])\n",
    "print(result1)"
   ]
  },
  {
   "cell_type": "code",
   "execution_count": 3,
   "id": "8c83dba9",
   "metadata": {},
   "outputs": [
    {
     "name": "stdout",
     "output_type": "stream",
     "text": [
      "[-1 -2  3  4]\n",
      "None\n"
     ]
    }
   ],
   "source": [
    "import numpy as np\n",
    "a = np.array([1, 2, 3, 4])\n",
    "b=np.negative.at(a, [0, 1])\n",
    "print(a)\n",
    "print(b)"
   ]
  },
  {
   "cell_type": "code",
   "execution_count": 4,
   "id": "8dd2e897",
   "metadata": {},
   "outputs": [
    {
     "name": "stdout",
     "output_type": "stream",
     "text": [
      "[[ 4  5  6]\n",
      " [ 8 10 12]\n",
      " [12 15 18]]\n"
     ]
    }
   ],
   "source": [
    "a=np.multiply.outer([1, 2, 3], [4, 5, 6])\n",
    "print(a)"
   ]
  },
  {
   "cell_type": "code",
   "execution_count": 5,
   "id": "62671c31",
   "metadata": {},
   "outputs": [
    {
     "name": "stdout",
     "output_type": "stream",
     "text": [
      "30\n"
     ]
    }
   ],
   "source": [
    "a=np.multiply.reduce([2,3,5])\n",
    "print(a)"
   ]
  },
  {
   "cell_type": "code",
   "execution_count": 9,
   "id": "c889d729",
   "metadata": {},
   "outputs": [
    {
     "name": "stdout",
     "output_type": "stream",
     "text": [
      "[ 6 10 14 18]\n"
     ]
    }
   ],
   "source": [
    "a = np.add.reduceat(np.arange(8), [0, 4, 1, 5, 2, 6, 3, 7])[::2]\n",
    "print(a)\n"
   ]
  },
  {
   "cell_type": "code",
   "execution_count": 10,
   "id": "b7345b9a",
   "metadata": {},
   "outputs": [],
   "source": [
    "int32 = np.dtype(\"int32\")\n",
    "float32 = np.dtype(\"float32\")"
   ]
  },
  {
   "cell_type": "code",
   "execution_count": 12,
   "id": "f9ff1979",
   "metadata": {},
   "outputs": [
    {
     "name": "stdout",
     "output_type": "stream",
     "text": [
      "1\n"
     ]
    }
   ],
   "source": [
    "a=np.add.nout\n",
    "print(a)"
   ]
  },
  {
   "cell_type": "code",
   "execution_count": 13,
   "id": "5c8d7256",
   "metadata": {},
   "outputs": [
    {
     "name": "stdout",
     "output_type": "stream",
     "text": [
      "[11 12 13]\n"
     ]
    }
   ],
   "source": [
    "a=np.array([1,2,3])\n",
    "b=10\n",
    "print(a+b)"
   ]
  },
  {
   "cell_type": "code",
   "execution_count": 14,
   "id": "bf55d42c",
   "metadata": {},
   "outputs": [
    {
     "name": "stdout",
     "output_type": "stream",
     "text": [
      "[[11. 21. 31. 41.]\n",
      " [11. 21. 31. 41.]\n",
      " [11. 21. 31. 41.]]\n"
     ]
    }
   ],
   "source": [
    "a=np.ones((3,1))\n",
    "b=np.array([10,20,30,40])\n",
    "print(a+b)"
   ]
  },
  {
   "cell_type": "code",
   "execution_count": 15,
   "id": "ef4e1ee3",
   "metadata": {},
   "outputs": [
    {
     "name": "stdout",
     "output_type": "stream",
     "text": [
      "[46  8  7 24 39 29  9 20  1 42 18 39 17  3 47 41 14 16 25 50]\n"
     ]
    }
   ],
   "source": [
    "arr=np.random.randint(0, 51, size=20)\n",
    "print(arr)"
   ]
  },
  {
   "cell_type": "code",
   "execution_count": 16,
   "id": "15d590e7",
   "metadata": {},
   "outputs": [
    {
     "name": "stdout",
     "output_type": "stream",
     "text": [
      "Array [28 38 20 42 40 20 43  4  0 25 21 18 33 27 49 34 11 19 20 16]\n",
      "Sum: 508\n",
      "Mean: 25.4\n",
      "Standard Deviation: 12.760877712759417\n",
      "Index of Min Element (argmin): 8\n",
      "Index of Max Element (argmax): 14\n"
     ]
    }
   ],
   "source": [
    "arr=np.random.randint(0,51,size=20)\n",
    "print(\"Array\",arr)\n",
    "print(\"Sum:\", np.sum(arr))\n",
    "print(\"Mean:\", np.mean(arr))\n",
    "print(\"Standard Deviation:\", np.std(arr))\n",
    "print(\"Index of Min Element (argmin):\", np.argmin(arr))\n",
    "print(\"Index of Max Element (argmax):\", np.argmax(arr))"
   ]
  },
  {
   "cell_type": "code",
   "execution_count": null,
   "id": "d19e3e54",
   "metadata": {},
   "outputs": [
    {
     "name": "stdout",
     "output_type": "stream",
     "text": [
      "Original matrix:\n",
      " [[ 1  2  3  4]\n",
      " [ 5  6  7  8]\n",
      " [ 9 10 11 12]]\n",
      "Vector to add:\n",
      " [10 20 30 40]\n",
      "Result after broadcasting:\n",
      " [[11 22 33 44]\n",
      " [15 26 37 48]\n",
      " [19 30 41 52]]\n"
     ]
    }
   ],
   "source": [
    "matrix = np.array([\n",
    "    [1, 2, 3, 4],\n",
    "    [5, 6, 7, 8],\n",
    "    [9, 10, 11, 12]\n",
    "])\n",
    "\n",
    "vector = np.array([10, 20, 30, 40])\n",
    "result = matrix + vector\n",
    "\n",
    "print(\"Original matrix:\\n\", matrix)\n",
    "\n",
    "print(\"Vector to add:\\n\", vector)\n",
    "\n",
    "print(\"Result after broadcasting:\\n\", result)"
   ]
  }
 ],
 "metadata": {
  "kernelspec": {
   "display_name": ".venv",
   "language": "python",
   "name": "python3"
  },
  "language_info": {
   "codemirror_mode": {
    "name": "ipython",
    "version": 3
   },
   "file_extension": ".py",
   "mimetype": "text/x-python",
   "name": "python",
   "nbconvert_exporter": "python",
   "pygments_lexer": "ipython3",
   "version": "3.13.3"
  }
 },
 "nbformat": 4,
 "nbformat_minor": 5
}
